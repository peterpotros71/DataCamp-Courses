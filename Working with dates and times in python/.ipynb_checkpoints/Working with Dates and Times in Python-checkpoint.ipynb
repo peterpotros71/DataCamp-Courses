{
 "cells": [
  {
   "cell_type": "code",
   "execution_count": 2,
   "metadata": {},
   "outputs": [],
   "source": [
    "# Import date from datetime\n",
    "from datetime import date\n",
    "import pandas as pd"
   ]
  },
  {
   "cell_type": "code",
   "execution_count": 3,
   "metadata": {},
   "outputs": [
    {
     "name": "stdout",
     "output_type": "stream",
     "text": [
      "0\n",
      "1992\n",
      "8\n",
      "24\n"
     ]
    }
   ],
   "source": [
    "# Create a date object\n",
    "hurricane_andrew = date(1992, 8, 24)\n",
    "\n",
    "# Which day of the week is the date?\n",
    "print(hurricane_andrew.weekday())   # remember that Python counts days of the week starting from Monday as 0, Tuesday as 1, and so on\n",
    "print(hurricane_andrew.year)\n",
    "print(hurricane_andrew.month)\n",
    "print(hurricane_andrew.day)"
   ]
  },
  {
   "cell_type": "markdown",
   "metadata": {},
   "source": [
    "### Subtracting dates"
   ]
  },
  {
   "cell_type": "code",
   "execution_count": 4,
   "metadata": {},
   "outputs": [
    {
     "name": "stdout",
     "output_type": "stream",
     "text": [
      "218\n"
     ]
    }
   ],
   "source": [
    "# Create a date object for May 9th, 2007\n",
    "start = date(2007, 5, 9)\n",
    "\n",
    "# Create a date object for December 13th, 2007\n",
    "end = date(2007, 12, 13)\n",
    "\n",
    "# Subtract the two dates and print the number of days\n",
    "delta = (end - start).days\n",
    "print(delta)"
   ]
  },
  {
   "cell_type": "code",
   "execution_count": 5,
   "metadata": {},
   "outputs": [
    {
     "name": "stdout",
     "output_type": "stream",
     "text": [
      "2007-12-13\n"
     ]
    }
   ],
   "source": [
    "from datetime import timedelta\n",
    "td = timedelta(delta)\n",
    "start += td\n",
    "print(start)"
   ]
  },
  {
   "cell_type": "markdown",
   "metadata": {},
   "source": [
    "### Counting events per calendar month"
   ]
  },
  {
   "cell_type": "code",
   "execution_count": 6,
   "metadata": {},
   "outputs": [],
   "source": [
    "florida_hurricane_dates = pd.read_pickle('florida_hurricane_dates.pkl')"
   ]
  },
  {
   "cell_type": "code",
   "execution_count": 7,
   "metadata": {},
   "outputs": [
    {
     "name": "stdout",
     "output_type": "stream",
     "text": [
      "{1: 0, 2: 1, 3: 0, 4: 1, 5: 8, 6: 32, 7: 21, 8: 49, 9: 70, 10: 43, 11: 9, 12: 1}\n"
     ]
    }
   ],
   "source": [
    "# A dictionary to count hurricanes per calendar month\n",
    "hurricanes_each_month = {1: 0, 2: 0, 3: 0, 4: 0, 5: 0, 6:0, 7: 0, 8:0, 9:0, 10:0, 11:0, 12:0}\n",
    "\n",
    "# Loop over all hurricanes\n",
    "for hurricane in florida_hurricane_dates:\n",
    "  # Pull out the month\n",
    "  month = hurricane.month\n",
    "  # Increment the count in your dictionary by one\n",
    "  hurricanes_each_month[month] += 1\n",
    "  \n",
    "print(hurricanes_each_month)"
   ]
  },
  {
   "cell_type": "markdown",
   "metadata": {},
   "source": [
    "### Printing dates in a friendly format"
   ]
  },
  {
   "cell_type": "code",
   "execution_count": 8,
   "metadata": {},
   "outputs": [
    {
     "name": "stdout",
     "output_type": "stream",
     "text": [
      "ISO: Our earliest hurricane date: 1950-08-31\n",
      "US: Our earliest hurricane date: 08/31/1950\n"
     ]
    }
   ],
   "source": [
    "# Assign the earliest date to first_date\n",
    "first_date = min(florida_hurricane_dates)\n",
    "\n",
    "# Convert to ISO and US formats\n",
    "iso = \"Our earliest hurricane date: \" + first_date.isoformat()\n",
    "us = \"Our earliest hurricane date: \" + first_date.strftime(\"%m/%d/%Y\")\n",
    "\n",
    "print(\"ISO: \" + iso)\n",
    "print(\"US: \" + us)"
   ]
  },
  {
   "cell_type": "markdown",
   "metadata": {},
   "source": [
    "When in doubt, use the ISO format for dates. ISO dates are unambiguous. And if you sort them 'alphabetically', for example, in filenames, they will be in the correct order"
   ]
  },
  {
   "cell_type": "markdown",
   "metadata": {},
   "source": [
    "### Creating datetimes by hand"
   ]
  },
  {
   "cell_type": "code",
   "execution_count": 9,
   "metadata": {},
   "outputs": [
    {
     "name": "stdout",
     "output_type": "stream",
     "text": [
      "1917-12-31T15:19:13\n"
     ]
    }
   ],
   "source": [
    "# Import datetime\n",
    "from datetime import datetime\n",
    "\n",
    "# Create a datetime object\n",
    "dt = datetime(2017, 12, 31, 15, 19, 13)\n",
    "\n",
    "# Replace the year with 1917\n",
    "dt_old = dt.replace(year=1917)\n",
    "\n",
    "# Print the results in ISO 8601 format\n",
    "print(dt_old.isoformat())"
   ]
  },
  {
   "cell_type": "code",
   "execution_count": 10,
   "metadata": {},
   "outputs": [
    {
     "data": {
      "text/html": [
       "<div>\n",
       "<style scoped>\n",
       "    .dataframe tbody tr th:only-of-type {\n",
       "        vertical-align: middle;\n",
       "    }\n",
       "\n",
       "    .dataframe tbody tr th {\n",
       "        vertical-align: top;\n",
       "    }\n",
       "\n",
       "    .dataframe thead th {\n",
       "        text-align: right;\n",
       "    }\n",
       "</style>\n",
       "<table border=\"1\" class=\"dataframe\">\n",
       "  <thead>\n",
       "    <tr style=\"text-align: right;\">\n",
       "      <th></th>\n",
       "      <th>Start date</th>\n",
       "      <th>End date</th>\n",
       "      <th>Start station number</th>\n",
       "      <th>Start station</th>\n",
       "      <th>End station number</th>\n",
       "      <th>End station</th>\n",
       "      <th>Bike number</th>\n",
       "      <th>Member type</th>\n",
       "    </tr>\n",
       "  </thead>\n",
       "  <tbody>\n",
       "    <tr>\n",
       "      <th>0</th>\n",
       "      <td>2017-10-01 15:23:25</td>\n",
       "      <td>2017-10-01 15:26:26</td>\n",
       "      <td>31038</td>\n",
       "      <td>Glebe Rd &amp; 11th St N</td>\n",
       "      <td>31036</td>\n",
       "      <td>George Mason Dr &amp; Wilson Blvd</td>\n",
       "      <td>W20529</td>\n",
       "      <td>Member</td>\n",
       "    </tr>\n",
       "    <tr>\n",
       "      <th>1</th>\n",
       "      <td>2017-10-01 15:42:57</td>\n",
       "      <td>2017-10-01 17:49:59</td>\n",
       "      <td>31036</td>\n",
       "      <td>George Mason Dr &amp; Wilson Blvd</td>\n",
       "      <td>31036</td>\n",
       "      <td>George Mason Dr &amp; Wilson Blvd</td>\n",
       "      <td>W20529</td>\n",
       "      <td>Casual</td>\n",
       "    </tr>\n",
       "    <tr>\n",
       "      <th>2</th>\n",
       "      <td>2017-10-02 06:37:10</td>\n",
       "      <td>2017-10-02 06:42:53</td>\n",
       "      <td>31036</td>\n",
       "      <td>George Mason Dr &amp; Wilson Blvd</td>\n",
       "      <td>31037</td>\n",
       "      <td>Ballston Metro / N Stuart &amp; 9th St N</td>\n",
       "      <td>W20529</td>\n",
       "      <td>Member</td>\n",
       "    </tr>\n",
       "    <tr>\n",
       "      <th>3</th>\n",
       "      <td>2017-10-02 08:56:45</td>\n",
       "      <td>2017-10-02 09:18:03</td>\n",
       "      <td>31037</td>\n",
       "      <td>Ballston Metro / N Stuart &amp; 9th St N</td>\n",
       "      <td>31295</td>\n",
       "      <td>Potomac &amp; M St NW</td>\n",
       "      <td>W20529</td>\n",
       "      <td>Member</td>\n",
       "    </tr>\n",
       "    <tr>\n",
       "      <th>4</th>\n",
       "      <td>2017-10-02 18:23:48</td>\n",
       "      <td>2017-10-02 18:45:05</td>\n",
       "      <td>31295</td>\n",
       "      <td>Potomac &amp; M St NW</td>\n",
       "      <td>31230</td>\n",
       "      <td>Metro Center / 12th &amp; G St NW</td>\n",
       "      <td>W20529</td>\n",
       "      <td>Member</td>\n",
       "    </tr>\n",
       "  </tbody>\n",
       "</table>\n",
       "</div>"
      ],
      "text/plain": [
       "            Start date             End date  Start station number  \\\n",
       "0  2017-10-01 15:23:25  2017-10-01 15:26:26                 31038   \n",
       "1  2017-10-01 15:42:57  2017-10-01 17:49:59                 31036   \n",
       "2  2017-10-02 06:37:10  2017-10-02 06:42:53                 31036   \n",
       "3  2017-10-02 08:56:45  2017-10-02 09:18:03                 31037   \n",
       "4  2017-10-02 18:23:48  2017-10-02 18:45:05                 31295   \n",
       "\n",
       "                          Start station  End station number  \\\n",
       "0                  Glebe Rd & 11th St N               31036   \n",
       "1         George Mason Dr & Wilson Blvd               31036   \n",
       "2         George Mason Dr & Wilson Blvd               31037   \n",
       "3  Ballston Metro / N Stuart & 9th St N               31295   \n",
       "4                     Potomac & M St NW               31230   \n",
       "\n",
       "                            End station Bike number Member type  \n",
       "0         George Mason Dr & Wilson Blvd      W20529      Member  \n",
       "1         George Mason Dr & Wilson Blvd      W20529      Casual  \n",
       "2  Ballston Metro / N Stuart & 9th St N      W20529      Member  \n",
       "3                     Potomac & M St NW      W20529      Member  \n",
       "4         Metro Center / 12th & G St NW      W20529      Member  "
      ]
     },
     "execution_count": 10,
     "metadata": {},
     "output_type": "execute_result"
    }
   ],
   "source": [
    "df = pd.read_csv('capital-onebike.csv')\n",
    "df.head()"
   ]
  },
  {
   "cell_type": "code",
   "execution_count": 11,
   "metadata": {},
   "outputs": [],
   "source": [
    "#df['Start date'] = pd.to_datetime(df['Start date'])\n",
    "#df['End date'] = pd.to_datetime(df['End date'])"
   ]
  },
  {
   "cell_type": "markdown",
   "metadata": {},
   "source": [
    "### Counting events before and after noon"
   ]
  },
  {
   "cell_type": "code",
   "execution_count": 12,
   "metadata": {},
   "outputs": [
    {
     "name": "stdout",
     "output_type": "stream",
     "text": [
      "{'AM': 94, 'PM': 196}\n"
     ]
    }
   ],
   "source": [
    "# Create dictionary to hold results\n",
    "trip_counts = {'AM': 0, 'PM': 0}\n",
    "  \n",
    "trips = pd.to_datetime(df['Start date'])    \n",
    "\n",
    "# Loop over all trips\n",
    "for trip in trips:\n",
    "  # Check to see if the trip starts before noon\n",
    "  if trip.hour < 12:\n",
    "    # Increment the counter for before noon\n",
    "    trip_counts['AM'] += 1\n",
    "  else:\n",
    "    # Increment the counter for after noon\n",
    "    trip_counts['PM'] += 1\n",
    "  \n",
    "print(trip_counts)"
   ]
  },
  {
   "cell_type": "markdown",
   "metadata": {},
   "source": [
    "### Turning strings into datetimes"
   ]
  },
  {
   "cell_type": "code",
   "execution_count": 13,
   "metadata": {},
   "outputs": [
    {
     "name": "stdout",
     "output_type": "stream",
     "text": [
      "2017-02-03 00:00:01\n"
     ]
    }
   ],
   "source": [
    "# Import the datetime class\n",
    "from datetime import datetime\n",
    "\n",
    "# Starting string, in YYYY-MM-DD HH:MM:SS format\n",
    "s = '2017-02-03 00:00:01'\n",
    "\n",
    "# Write a format string to parse s\n",
    "fmt = '%Y-%m-%d %H:%M:%S'\n",
    "\n",
    "# Create a datetime object d\n",
    "d = datetime.strptime(s, fmt)\n",
    "\n",
    "# Print d\n",
    "print(d)"
   ]
  },
  {
   "cell_type": "markdown",
   "metadata": {},
   "source": [
    "### Unix timestamps"
   ]
  },
  {
   "cell_type": "code",
   "execution_count": 14,
   "metadata": {},
   "outputs": [
    {
     "name": "stdout",
     "output_type": "stream",
     "text": [
      "[datetime.datetime(2017, 12, 30, 22, 19, 13), datetime.datetime(2017, 12, 30, 22, 9, 3)]\n"
     ]
    }
   ],
   "source": [
    "# Import datetime\n",
    "from datetime import datetime\n",
    "\n",
    "# Starting timestamps\n",
    "timestamps = [1514665153, 1514664543]\n",
    "\n",
    "# Datetime objects\n",
    "dts = []\n",
    "\n",
    "# Loop\n",
    "for ts in timestamps:\n",
    "  dts.append(datetime.fromtimestamp(ts))\n",
    "  \n",
    "# Print results\n",
    "print(dts)"
   ]
  },
  {
   "cell_type": "markdown",
   "metadata": {},
   "source": [
    "### Creating timezone aware datetimes"
   ]
  },
  {
   "cell_type": "code",
   "execution_count": 15,
   "metadata": {},
   "outputs": [
    {
     "name": "stdout",
     "output_type": "stream",
     "text": [
      "2017-10-01T15:26:26-08:00\n"
     ]
    }
   ],
   "source": [
    "# Import datetime, timedelta, timezone\n",
    "from datetime import datetime, timedelta, timezone\n",
    "\n",
    "# Create a timezone for Pacific Standard Time, or UTC-8\n",
    "pst = timezone(timedelta(hours=-8))\n",
    "\n",
    "# October 1, 2017 at 15:26:26, UTC-8\n",
    "dt = datetime(2017, 10, 1, 15, 26, 26, tzinfo=pst)\n",
    "\n",
    "# Print results\n",
    "print(dt.isoformat())"
   ]
  },
  {
   "cell_type": "markdown",
   "metadata": {},
   "source": [
    "### Setting timezones"
   ]
  },
  {
   "cell_type": "code",
   "execution_count": 16,
   "metadata": {},
   "outputs": [],
   "source": [
    "trips = pd.to_datetime(df['Start date'])"
   ]
  },
  {
   "cell_type": "code",
   "execution_count": 17,
   "metadata": {},
   "outputs": [
    {
     "name": "stdout",
     "output_type": "stream",
     "text": [
      "2017-10-01 15:23:25-04:00\n",
      "2017-10-01 15:42:57-04:00\n",
      "2017-10-02 06:37:10-04:00\n",
      "2017-10-02 08:56:45-04:00\n",
      "2017-10-02 18:23:48-04:00\n",
      "2017-10-02 18:48:08-04:00\n",
      "2017-10-02 19:18:10-04:00\n",
      "2017-10-02 19:37:32-04:00\n",
      "2017-10-03 08:24:16-04:00\n",
      "2017-10-03 18:17:07-04:00\n",
      "2017-10-03 19:24:10-04:00\n",
      "2017-10-03 20:17:06-04:00\n",
      "2017-10-03 20:45:21-04:00\n",
      "2017-10-04 07:04:57-04:00\n",
      "2017-10-04 07:13:42-04:00\n",
      "2017-10-04 14:22:12-04:00\n",
      "2017-10-04 15:07:27-04:00\n",
      "2017-10-04 15:46:41-04:00\n",
      "2017-10-04 16:34:44-04:00\n",
      "2017-10-04 17:26:06-04:00\n",
      "2017-10-04 17:42:03-04:00\n",
      "2017-10-05 07:49:02-04:00\n",
      "2017-10-05 08:26:21-04:00\n",
      "2017-10-05 08:33:27-04:00\n",
      "2017-10-05 16:35:35-04:00\n",
      "2017-10-05 17:53:31-04:00\n",
      "2017-10-06 08:17:17-04:00\n",
      "2017-10-06 11:39:40-04:00\n",
      "2017-10-06 12:59:54-04:00\n",
      "2017-10-06 13:43:05-04:00\n",
      "2017-10-06 14:28:15-04:00\n",
      "2017-10-06 15:50:10-04:00\n",
      "2017-10-06 16:32:16-04:00\n",
      "2017-10-06 16:44:08-04:00\n",
      "2017-10-06 16:53:43-04:00\n",
      "2017-10-07 11:38:55-04:00\n",
      "2017-10-07 14:03:36-04:00\n",
      "2017-10-07 14:20:03-04:00\n",
      "2017-10-07 14:30:50-04:00\n",
      "2017-10-08 00:28:26-04:00\n",
      "2017-10-08 11:16:21-04:00\n",
      "2017-10-08 12:37:03-04:00\n",
      "2017-10-08 13:30:37-04:00\n",
      "2017-10-08 14:16:40-04:00\n",
      "2017-10-08 15:23:50-04:00\n",
      "2017-10-08 15:54:12-04:00\n",
      "2017-10-08 16:28:52-04:00\n",
      "2017-10-08 23:08:14-04:00\n",
      "2017-10-08 23:34:49-04:00\n",
      "2017-10-08 23:46:47-04:00\n",
      "2017-10-09 00:12:58-04:00\n",
      "2017-10-09 00:37:02-04:00\n",
      "2017-10-09 01:23:29-04:00\n",
      "2017-10-09 01:49:25-04:00\n",
      "2017-10-09 02:14:11-04:00\n",
      "2017-10-09 13:04:32-04:00\n",
      "2017-10-09 14:30:10-04:00\n",
      "2017-10-09 15:06:47-04:00\n",
      "2017-10-09 16:43:25-04:00\n",
      "2017-10-10 15:32:58-04:00\n",
      "2017-10-10 16:47:55-04:00\n",
      "2017-10-10 17:51:05-04:00\n",
      "2017-10-10 18:08:12-04:00\n",
      "2017-10-10 19:09:35-04:00\n",
      "2017-10-10 19:17:11-04:00\n",
      "2017-10-10 19:28:11-04:00\n",
      "2017-10-10 19:55:35-04:00\n",
      "2017-10-10 22:20:43-04:00\n",
      "2017-10-11 04:40:52-04:00\n",
      "2017-10-11 06:28:58-04:00\n",
      "2017-10-11 16:41:07-04:00\n",
      "2017-10-12 08:08:30-04:00\n",
      "2017-10-12 08:47:02-04:00\n",
      "2017-10-12 13:13:39-04:00\n",
      "2017-10-12 13:40:12-04:00\n",
      "2017-10-12 13:49:56-04:00\n",
      "2017-10-12 14:33:18-04:00\n",
      "2017-10-13 15:55:39-04:00\n",
      "2017-10-17 17:58:48-04:00\n",
      "2017-10-19 20:21:45-04:00\n",
      "2017-10-19 21:11:39-04:00\n",
      "2017-10-19 21:30:01-04:00\n",
      "2017-10-19 21:47:34-04:00\n",
      "2017-10-19 21:57:24-04:00\n",
      "2017-10-21 12:24:09-04:00\n",
      "2017-10-21 12:36:37-04:00\n",
      "2017-10-21 13:47:43-04:00\n",
      "2017-10-22 13:28:53-04:00\n",
      "2017-10-22 13:47:05-04:00\n",
      "2017-10-22 14:26:41-04:00\n",
      "2017-10-22 14:54:41-04:00\n",
      "2017-10-22 16:40:29-04:00\n",
      "2017-10-22 17:58:46-04:00\n",
      "2017-10-22 18:45:16-04:00\n",
      "2017-10-22 18:56:22-04:00\n",
      "2017-10-23 10:14:08-04:00\n",
      "2017-10-23 11:29:36-04:00\n",
      "2017-10-23 15:04:52-04:00\n",
      "2017-10-23 15:33:48-04:00\n",
      "2017-10-23 17:13:16-04:00\n",
      "2017-10-23 19:55:03-04:00\n",
      "2017-10-23 21:47:54-04:00\n",
      "2017-10-23 22:34:12-04:00\n",
      "2017-10-24 06:55:01-04:00\n",
      "2017-10-24 14:56:07-04:00\n",
      "2017-10-24 15:51:36-04:00\n",
      "2017-10-24 16:31:10-04:00\n",
      "2017-10-28 14:26:14-04:00\n",
      "2017-11-01 09:41:54-04:00\n",
      "2017-11-01 20:16:11-04:00\n",
      "2017-11-02 19:44:29-04:00\n",
      "2017-11-02 20:14:37-04:00\n",
      "2017-11-02 21:35:47-04:00\n",
      "2017-11-03 09:59:27-04:00\n",
      "2017-11-03 10:13:22-04:00\n",
      "2017-11-03 10:44:25-04:00\n",
      "2017-11-03 16:06:43-04:00\n",
      "2017-11-03 16:45:54-04:00\n",
      "2017-11-03 17:07:15-04:00\n",
      "2017-11-03 17:36:05-04:00\n",
      "2017-11-03 17:50:31-04:00\n",
      "2017-11-03 19:22:56-04:00\n",
      "2017-11-04 13:14:10-04:00\n",
      "2017-11-04 14:18:37-04:00\n",
      "2017-11-04 14:45:59-04:00\n",
      "2017-11-04 15:16:03-04:00\n",
      "2017-11-04 16:37:46-04:00\n",
      "2017-11-04 17:13:19-04:00\n",
      "2017-11-04 18:10:34-04:00\n",
      "2017-11-05 01:56:50-04:00\n",
      "2017-11-05 08:33:33-04:00\n",
      "2017-11-05 08:58:08-04:00\n",
      "2017-11-05 11:05:08-04:00\n",
      "2017-11-06 08:50:18-04:00\n",
      "2017-11-06 09:04:03-04:00\n",
      "2017-11-06 16:19:36-04:00\n",
      "2017-11-06 17:21:27-04:00\n",
      "2017-11-06 17:36:01-04:00\n",
      "2017-11-06 17:59:52-04:00\n",
      "2017-11-06 18:18:36-04:00\n",
      "2017-11-06 19:24:31-04:00\n",
      "2017-11-06 19:49:16-04:00\n",
      "2017-11-07 07:50:48-04:00\n",
      "2017-11-08 13:11:51-04:00\n",
      "2017-11-08 21:34:47-04:00\n",
      "2017-11-08 22:02:30-04:00\n",
      "2017-11-09 07:01:11-04:00\n",
      "2017-11-09 08:02:02-04:00\n",
      "2017-11-09 08:19:59-04:00\n",
      "2017-11-09 08:41:31-04:00\n",
      "2017-11-09 09:00:06-04:00\n",
      "2017-11-09 09:09:37-04:00\n",
      "2017-11-09 13:14:37-04:00\n",
      "2017-11-09 15:20:07-04:00\n",
      "2017-11-09 18:47:08-04:00\n",
      "2017-11-09 23:35:02-04:00\n",
      "2017-11-10 07:51:33-04:00\n",
      "2017-11-10 08:38:28-04:00\n",
      "2017-11-11 18:05:25-04:00\n",
      "2017-11-11 19:39:12-04:00\n",
      "2017-11-11 21:13:19-04:00\n",
      "2017-11-12 09:46:19-04:00\n",
      "2017-11-13 13:33:42-04:00\n",
      "2017-11-14 08:40:29-04:00\n",
      "2017-11-15 06:14:05-04:00\n",
      "2017-11-15 08:14:59-04:00\n",
      "2017-11-15 10:16:44-04:00\n",
      "2017-11-15 10:33:58-04:00\n",
      "2017-11-15 11:02:15-04:00\n",
      "2017-11-16 09:27:41-04:00\n",
      "2017-11-16 09:57:41-04:00\n",
      "2017-11-16 17:25:05-04:00\n",
      "2017-11-17 13:45:54-04:00\n",
      "2017-11-17 19:12:49-04:00\n",
      "2017-11-18 10:49:06-04:00\n",
      "2017-11-18 11:32:12-04:00\n",
      "2017-11-18 18:09:01-04:00\n",
      "2017-11-18 18:53:10-04:00\n",
      "2017-11-19 14:15:41-04:00\n",
      "2017-11-20 21:19:19-04:00\n",
      "2017-11-20 22:39:48-04:00\n",
      "2017-11-21 17:44:25-04:00\n",
      "2017-11-21 18:20:52-04:00\n",
      "2017-11-21 18:47:32-04:00\n",
      "2017-11-21 19:07:57-04:00\n",
      "2017-11-21 20:04:56-04:00\n",
      "2017-11-21 21:55:47-04:00\n",
      "2017-11-23 23:47:43-04:00\n",
      "2017-11-24 06:41:25-04:00\n",
      "2017-11-24 06:58:56-04:00\n",
      "2017-11-26 12:25:49-04:00\n",
      "2017-11-27 05:29:04-04:00\n",
      "2017-11-27 06:06:47-04:00\n",
      "2017-11-27 06:45:14-04:00\n",
      "2017-11-27 09:39:44-04:00\n",
      "2017-11-27 11:09:18-04:00\n",
      "2017-11-27 11:31:46-04:00\n",
      "2017-11-27 12:07:14-04:00\n",
      "2017-11-27 12:21:40-04:00\n",
      "2017-11-27 17:26:31-04:00\n",
      "2017-11-27 18:11:49-04:00\n",
      "2017-11-27 19:36:16-04:00\n",
      "2017-11-27 20:12:57-04:00\n",
      "2017-11-28 08:18:06-04:00\n",
      "2017-11-28 19:17:23-04:00\n",
      "2017-11-28 19:34:15-04:00\n",
      "2017-11-28 21:27:29-04:00\n",
      "2017-11-29 07:47:38-04:00\n",
      "2017-11-29 09:50:12-04:00\n",
      "2017-11-29 17:03:42-04:00\n",
      "2017-11-29 18:19:15-04:00\n",
      "2017-12-01 17:03:58-04:00\n",
      "2017-12-02 07:55:56-04:00\n",
      "2017-12-02 09:16:14-04:00\n",
      "2017-12-02 19:48:29-04:00\n",
      "2017-12-03 14:36:29-04:00\n",
      "2017-12-03 16:04:02-04:00\n",
      "2017-12-03 16:40:26-04:00\n",
      "2017-12-03 17:20:17-04:00\n",
      "2017-12-04 08:34:24-04:00\n",
      "2017-12-04 17:49:26-04:00\n",
      "2017-12-04 18:38:52-04:00\n",
      "2017-12-04 21:39:20-04:00\n",
      "2017-12-04 21:54:21-04:00\n",
      "2017-12-05 08:50:50-04:00\n",
      "2017-12-06 08:19:38-04:00\n",
      "2017-12-06 18:19:19-04:00\n",
      "2017-12-06 18:28:55-04:00\n",
      "2017-12-06 20:03:29-04:00\n",
      "2017-12-06 20:36:42-04:00\n",
      "2017-12-07 05:54:51-04:00\n",
      "2017-12-08 16:47:18-04:00\n",
      "2017-12-08 19:15:02-04:00\n",
      "2017-12-09 22:39:37-04:00\n",
      "2017-12-09 23:00:10-04:00\n",
      "2017-12-10 00:39:24-04:00\n",
      "2017-12-10 01:02:42-04:00\n",
      "2017-12-10 01:08:57-04:00\n",
      "2017-12-10 13:49:09-04:00\n",
      "2017-12-10 15:14:29-04:00\n",
      "2017-12-10 15:31:07-04:00\n",
      "2017-12-10 16:20:06-04:00\n",
      "2017-12-10 17:07:54-04:00\n",
      "2017-12-10 17:23:47-04:00\n",
      "2017-12-11 06:17:06-04:00\n",
      "2017-12-11 09:08:41-04:00\n",
      "2017-12-11 09:15:41-04:00\n",
      "2017-12-12 08:55:53-04:00\n",
      "2017-12-13 17:14:56-04:00\n",
      "2017-12-13 18:52:16-04:00\n",
      "2017-12-14 09:01:10-04:00\n",
      "2017-12-14 09:12:59-04:00\n",
      "2017-12-14 11:54:33-04:00\n",
      "2017-12-14 14:40:23-04:00\n",
      "2017-12-14 15:08:55-04:00\n",
      "2017-12-14 17:46:17-04:00\n",
      "2017-12-15 09:08:12-04:00\n",
      "2017-12-16 09:33:46-04:00\n",
      "2017-12-16 11:02:31-04:00\n",
      "2017-12-17 10:09:47-04:00\n",
      "2017-12-18 08:02:36-04:00\n",
      "2017-12-18 16:03:00-04:00\n",
      "2017-12-18 16:30:07-04:00\n",
      "2017-12-18 19:18:23-04:00\n",
      "2017-12-18 20:14:46-04:00\n",
      "2017-12-19 19:14:08-04:00\n",
      "2017-12-19 19:39:36-04:00\n",
      "2017-12-20 08:05:14-04:00\n",
      "2017-12-20 08:15:45-04:00\n",
      "2017-12-20 08:33:32-04:00\n",
      "2017-12-20 13:43:36-04:00\n",
      "2017-12-20 18:57:53-04:00\n",
      "2017-12-21 07:21:11-04:00\n",
      "2017-12-21 08:01:58-04:00\n",
      "2017-12-21 13:20:54-04:00\n",
      "2017-12-21 15:26:08-04:00\n",
      "2017-12-21 18:09:46-04:00\n",
      "2017-12-22 16:14:21-04:00\n",
      "2017-12-22 16:29:17-04:00\n",
      "2017-12-25 12:49:51-04:00\n",
      "2017-12-25 13:46:44-04:00\n",
      "2017-12-26 10:40:16-04:00\n",
      "2017-12-27 16:56:12-04:00\n",
      "2017-12-29 06:02:34-04:00\n",
      "2017-12-29 12:21:03-04:00\n",
      "2017-12-29 14:32:55-04:00\n",
      "2017-12-29 15:08:26-04:00\n",
      "2017-12-29 20:33:34-04:00\n",
      "2017-12-30 13:51:03-04:00\n",
      "2017-12-30 15:09:03-04:00\n"
     ]
    }
   ],
   "source": [
    "# Create a timezone object corresponding to UTC-4\n",
    "edt = timezone(timedelta(hours=-4))\n",
    "\n",
    "trips = pd.to_datetime(df['Start date'])  \n",
    "\n",
    "# Loop over trips, updating the start datetimes to be in UTC-4\n",
    "for trip in trips:\n",
    "  # Update trip['start'] \n",
    "  trip = trip.replace(tzinfo=edt)\n",
    "  print(trip)  "
   ]
  },
  {
   "cell_type": "code",
   "execution_count": 18,
   "metadata": {},
   "outputs": [
    {
     "name": "stdout",
     "output_type": "stream",
     "text": [
      "[Timestamp('2017-10-01 15:23:25-0400', tz='UTC-04:00'), Timestamp('2017-10-01 15:42:57-0400', tz='UTC-04:00'), Timestamp('2017-10-02 06:37:10-0400', tz='UTC-04:00'), Timestamp('2017-10-02 08:56:45-0400', tz='UTC-04:00'), Timestamp('2017-10-02 18:23:48-0400', tz='UTC-04:00'), Timestamp('2017-10-02 18:48:08-0400', tz='UTC-04:00'), Timestamp('2017-10-02 19:18:10-0400', tz='UTC-04:00'), Timestamp('2017-10-02 19:37:32-0400', tz='UTC-04:00'), Timestamp('2017-10-03 08:24:16-0400', tz='UTC-04:00'), Timestamp('2017-10-03 18:17:07-0400', tz='UTC-04:00')]\n"
     ]
    }
   ],
   "source": [
    "# Create a timezone object corresponding to UTC-4\n",
    "edt = timezone(timedelta(hours=-4))\n",
    "\n",
    "new_trips = []\n",
    "\n",
    "# Loop over trips, updating the start datetimes to be in UTC-4\n",
    "for i in range(10):\n",
    "    # Update trip['start'] and trip['end']\n",
    "    #print(trips[i])\n",
    "    new_trips.append(trips[i].replace(tzinfo=edt))\n",
    "                     \n",
    "print(new_trips)"
   ]
  },
  {
   "cell_type": "code",
   "execution_count": 19,
   "metadata": {},
   "outputs": [
    {
     "data": {
      "text/plain": [
       "Timestamp('2017-10-01 15:42:57-0400', tz='UTC-04:00')"
      ]
     },
     "execution_count": 19,
     "metadata": {},
     "output_type": "execute_result"
    }
   ],
   "source": [
    "trips[1].replace(tzinfo=edt)"
   ]
  },
  {
   "cell_type": "markdown",
   "metadata": {},
   "source": [
    "### What time did the bike leave in UTC?"
   ]
  },
  {
   "cell_type": "code",
   "execution_count": 20,
   "metadata": {},
   "outputs": [
    {
     "name": "stdout",
     "output_type": "stream",
     "text": [
      "Original: 2017-10-01 15:23:25-04:00 | UTC: 2017-10-01T19:23:25+00:00\n",
      "Original: 2017-10-01 15:42:57-04:00 | UTC: 2017-10-01T19:42:57+00:00\n",
      "Original: 2017-10-02 06:37:10-04:00 | UTC: 2017-10-02T10:37:10+00:00\n",
      "Original: 2017-10-02 08:56:45-04:00 | UTC: 2017-10-02T12:56:45+00:00\n",
      "Original: 2017-10-02 18:23:48-04:00 | UTC: 2017-10-02T22:23:48+00:00\n",
      "Original: 2017-10-02 18:48:08-04:00 | UTC: 2017-10-02T22:48:08+00:00\n",
      "Original: 2017-10-02 19:18:10-04:00 | UTC: 2017-10-02T23:18:10+00:00\n",
      "Original: 2017-10-02 19:37:32-04:00 | UTC: 2017-10-02T23:37:32+00:00\n",
      "Original: 2017-10-03 08:24:16-04:00 | UTC: 2017-10-03T12:24:16+00:00\n",
      "Original: 2017-10-03 18:17:07-04:00 | UTC: 2017-10-03T22:17:07+00:00\n"
     ]
    }
   ],
   "source": [
    "# Loop over the trips\n",
    "for trip in new_trips:\n",
    "    # Pull out the start\n",
    "    dt = trip\n",
    "    # Move dt to be in UTC\n",
    "    dt = dt.astimezone(timezone.utc)\n",
    "\n",
    "    # Print the start time in UTC\n",
    "    print('Original:', trip, '| UTC:', dt.isoformat())"
   ]
  },
  {
   "cell_type": "markdown",
   "metadata": {},
   "source": [
    "### Using tz database to get the right time zone"
   ]
  },
  {
   "cell_type": "code",
   "execution_count": 38,
   "metadata": {},
   "outputs": [
    {
     "name": "stdout",
     "output_type": "stream",
     "text": [
      "2017-10-01 15:23:25-04:00\n",
      "2017-10-01 15:42:57-04:00\n",
      "2017-10-02 06:37:10-04:00\n",
      "2017-10-02 08:56:45-04:00\n",
      "2017-10-02 18:23:48-04:00\n",
      "2017-10-02 18:48:08-04:00\n",
      "2017-10-02 19:18:10-04:00\n",
      "2017-10-02 19:37:32-04:00\n",
      "2017-10-03 08:24:16-04:00\n",
      "2017-10-03 18:17:07-04:00\n"
     ]
    }
   ],
   "source": [
    "# Import tz\n",
    "from dateutil import tz\n",
    "\n",
    "# Create a timezone object for Eastern Time\n",
    "et = tz.gettz('America/New_York')\n",
    "\n",
    "# Loop over trips, updating the datetimes to be in Eastern Time\n",
    "for trip in new_trips:\n",
    "  # Update trip\n",
    "  trip = trip.replace(tzinfo=et)\n",
    "  print(trip)  "
   ]
  },
  {
   "cell_type": "markdown",
   "metadata": {},
   "source": [
    "Time zone rules actually change quite frequently. IANA time zone data gets updated every 3-4 months, as different jurisdictions make changes to their laws about time or as more historical information about timezones are uncovered. tz is smart enough to use the date in your datetime to determine which rules to use historically."
   ]
  },
  {
   "cell_type": "markdown",
   "metadata": {},
   "source": [
    "### move a datetime from one timezone into another, use .astimezone() and tz"
   ]
  },
  {
   "cell_type": "code",
   "execution_count": 63,
   "metadata": {},
   "outputs": [
    {
     "name": "stdout",
     "output_type": "stream",
     "text": [
      "2017-10-01T15:23:25-04:00\n",
      "2017-10-01T20:23:25+01:00\n"
     ]
    }
   ],
   "source": [
    "# Create the timezone object\n",
    "uk = tz.gettz('Europe/London')\n",
    "\n",
    "# Pull out the start of the first trip\n",
    "local = new_trips[0]\n",
    "\n",
    "# What time was it in the UK?\n",
    "notlocal = local.astimezone(uk)\n",
    "\n",
    "# Print them out and see the difference\n",
    "print(local.isoformat())\n",
    "print(notlocal.isoformat())"
   ]
  },
  {
   "cell_type": "code",
   "execution_count": 64,
   "metadata": {},
   "outputs": [
    {
     "name": "stdout",
     "output_type": "stream",
     "text": [
      "2017-10-01T15:23:25-04:00\n",
      "2017-10-02T00:53:25+05:30\n"
     ]
    }
   ],
   "source": [
    "# Create the timezone object\n",
    "ist = tz.gettz('Asia/Kolkata')\n",
    "\n",
    "# Pull out the start of the first trip\n",
    "local = new_trips[0]\n",
    "\n",
    "# What time was it in India?\n",
    "notlocal = local.astimezone(ist)\n",
    "\n",
    "# Print them out and see the difference\n",
    "print(local.isoformat())\n",
    "print(notlocal.isoformat())"
   ]
  },
  {
   "cell_type": "markdown",
   "metadata": {},
   "source": [
    "### How many hours elapsed around daylight saving?"
   ]
  },
  {
   "cell_type": "code",
   "execution_count": 68,
   "metadata": {},
   "outputs": [
    {
     "name": "stdout",
     "output_type": "stream",
     "text": [
      "2017-03-12T00:00:00-05:00 to 2017-03-12T06:00:00-04:00\n",
      "6.0\n",
      "5.0\n"
     ]
    }
   ],
   "source": [
    "# Import datetime, timedelta, tz, timezone\n",
    "from datetime import datetime, timedelta, timezone\n",
    "from dateutil import tz\n",
    "\n",
    "# Start on March 12, 2017, midnight, then add 6 hours\n",
    "start = datetime(2017, 3, 12, tzinfo = tz.gettz('America/New_York'))\n",
    "end = start + timedelta(hours=6)\n",
    "print(start.isoformat() + \" to \" + end.isoformat())\n",
    "\n",
    "# How many hours have elapsed?\n",
    "print((end - start).total_seconds()/(60*60))\n",
    "\n",
    "# What if we move to UTC?\n",
    "print((end.astimezone(tz.gettz('UTC')) - start.astimezone(tz.gettz('UTC'))).total_seconds()/(60*60))"
   ]
  },
  {
   "cell_type": "markdown",
   "metadata": {},
   "source": [
    "You added 6 hours, and got 6 AM, despite the fact that the clocks springing forward means only 5 hours would have actually elapsed!"
   ]
  },
  {
   "cell_type": "markdown",
   "metadata": {},
   "source": [
    "When we compare times in local time zones, everything gets converted into clock time. Remember if you want to get absolute time differences, always move to UTC!"
   ]
  },
  {
   "cell_type": "code",
   "execution_count": 69,
   "metadata": {},
   "outputs": [
    {
     "name": "stdout",
     "output_type": "stream",
     "text": [
      "2000-03-29T00:00:00+01:00\n",
      "2001-03-29T00:00:00+01:00\n",
      "2002-03-29T00:00:00+00:00\n",
      "2003-03-29T00:00:00+00:00\n",
      "2004-03-29T00:00:00+01:00\n",
      "2005-03-29T00:00:00+01:00\n",
      "2006-03-29T00:00:00+01:00\n",
      "2007-03-29T00:00:00+01:00\n",
      "2008-03-29T00:00:00+00:00\n",
      "2009-03-29T00:00:00+00:00\n",
      "2010-03-29T00:00:00+01:00\n"
     ]
    }
   ],
   "source": [
    "# Import datetime and tz\n",
    "from datetime import datetime\n",
    "from dateutil import tz\n",
    "\n",
    "# Create starting date\n",
    "dt = datetime(2000, 3, 29, tzinfo = tz.gettz('Europe/London'))\n",
    "\n",
    "# Loop over the dates, replacing the year, and print the ISO timestamp\n",
    "for y in range(2000, 2011):\n",
    "  print(dt.replace(year=y).isoformat())"
   ]
  },
  {
   "cell_type": "markdown",
   "metadata": {},
   "source": [
    "As you can see, the rules for Daylight Saving are not trivial. When in doubt, always use tz instead of hand-rolling timezones, so it will catch the Daylight Saving rules (and rule changes!) for you."
   ]
  },
  {
   "cell_type": "markdown",
   "metadata": {},
   "source": [
    "### Finding ambiguous datetimes"
   ]
  },
  {
   "cell_type": "code",
   "execution_count": 71,
   "metadata": {},
   "outputs": [],
   "source": [
    "# Loop over trips\n",
    "for trip in new_trips:\n",
    "  # Rides with ambiguous start\n",
    "  if tz.datetime_ambiguous(trip):\n",
    "    print(\"Ambiguous start at \" + str(trip))\n",
    "    trip = tz.enfold(trip)\n",
    "    trip = trip.astimezone(tz.gettz('UTC'))\n",
    "    print(trip)"
   ]
  },
  {
   "cell_type": "markdown",
   "metadata": {},
   "source": [
    "Avoid ambiguous datetimes in practice by storing datetimes in UTC."
   ]
  },
  {
   "cell_type": "markdown",
   "metadata": {},
   "source": [
    "### dealing with pandas"
   ]
  },
  {
   "cell_type": "code",
   "execution_count": 93,
   "metadata": {},
   "outputs": [
    {
     "name": "stdout",
     "output_type": "stream",
     "text": [
      "Start date                        2017-10-01 15:23:25\n",
      "End date                          2017-10-01 15:26:26\n",
      "Start station number                            31038\n",
      "Start station                    Glebe Rd & 11th St N\n",
      "End station number                              31036\n",
      "End station             George Mason Dr & Wilson Blvd\n",
      "Bike number                                    W20529\n",
      "Member type                                    Member\n",
      "Name: 0, dtype: object\n"
     ]
    }
   ],
   "source": [
    "# Load CSV into the rides variable\n",
    "rides = pd.read_csv('capital-onebike.csv', \n",
    "                    parse_dates = ['Start date', 'End date'])\n",
    "\n",
    "# Print the initial (0th) row\n",
    "print(rides.iloc[0])"
   ]
  },
  {
   "cell_type": "code",
   "execution_count": 94,
   "metadata": {},
   "outputs": [
    {
     "name": "stdout",
     "output_type": "stream",
     "text": [
      "0     181.0\n",
      "1    7622.0\n",
      "2     343.0\n",
      "3    1278.0\n",
      "4    1277.0\n",
      "Name: Duration, dtype: float64\n"
     ]
    }
   ],
   "source": [
    "# Subtract the start date from the end date\n",
    "ride_durations = rides['End date'] - rides['Start date']\n",
    "\n",
    "# Convert the results to seconds\n",
    "rides['Duration'] = ride_durations.dt.total_seconds()\n",
    "\n",
    "print(rides['Duration'].head())"
   ]
  },
  {
   "cell_type": "markdown",
   "metadata": {},
   "source": [
    "### How many joyrides?"
   ]
  },
  {
   "cell_type": "code",
   "execution_count": 95,
   "metadata": {},
   "outputs": [
    {
     "name": "stdout",
     "output_type": "stream",
     "text": [
      "6 rides were joyrides\n",
      "The median duration overall was 660.00 seconds\n",
      "The median duration for joyrides was 2642.50 seconds\n"
     ]
    }
   ],
   "source": [
    "# Create joyrides\n",
    "joyrides = (rides['Start station'] == rides['End station'])\n",
    "\n",
    "# Total number of joyrides\n",
    "print(\"{} rides were joyrides\".format(joyrides.sum()))\n",
    "\n",
    "# Median of all rides\n",
    "print(\"The median duration overall was {:.2f} seconds\"\\\n",
    "      .format(rides['Duration'].median()))\n",
    "\n",
    "# Median of joyrides\n",
    "print(\"The median duration for joyrides was {:.2f} seconds\"\\\n",
    "      .format(rides[joyrides]['Duration'].median()))"
   ]
  },
  {
   "cell_type": "markdown",
   "metadata": {},
   "source": [
    "### Resampling by datetime (like group by)"
   ]
  },
  {
   "cell_type": "code",
   "execution_count": 96,
   "metadata": {},
   "outputs": [
    {
     "data": {
      "image/png": "[encoded data removed]",
      "text/plain": [
       "<Figure size 432x288 with 1 Axes>"
      ]
     },
     "metadata": {
      "needs_background": "light"
     },
     "output_type": "display_data"
    }
   ],
   "source": [
    "# Import matplotlib\n",
    "import matplotlib.pyplot as plt\n",
    "\n",
    "# Resample rides to daily, take the size, plot the results\n",
    "rides.resample('D', on = 'Start date')\\\n",
    "  .size()\\\n",
    "  .plot(ylim = [0, 15])\n",
    "\n",
    "# Show the results\n",
    "plt.show()"
   ]
  },
  {
   "cell_type": "code",
   "execution_count": 97,
   "metadata": {},
   "outputs": [
    {
     "data": {
      "image/png": "[encoded data removed]",
      "text/plain": [
       "<Figure size 432x288 with 1 Axes>"
      ]
     },
     "metadata": {
      "needs_background": "light"
     },
     "output_type": "display_data"
    }
   ],
   "source": [
    "# Resample rides to monthly, take the size, plot the results\n",
    "rides.resample('M', on = 'Start date')\\\n",
    "  .size()\\\n",
    "  .plot(ylim = [0, 150])\n",
    "\n",
    "# Show the results\n",
    "plt.show()"
   ]
  },
  {
   "cell_type": "markdown",
   "metadata": {},
   "source": [
    "### Members vs casual riders over time"
   ]
  },
  {
   "cell_type": "code",
   "execution_count": 98,
   "metadata": {},
   "outputs": [
    {
     "name": "stdout",
     "output_type": "stream",
     "text": [
      "Start date  Member type\n",
      "2017-10-31  Member         0.768519\n",
      "            Casual         0.231481\n",
      "2017-11-30  Member         0.825243\n",
      "            Casual         0.174757\n",
      "2017-12-31  Member         0.860759\n",
      "            Casual         0.139241\n",
      "Name: Member type, dtype: float64\n"
     ]
    }
   ],
   "source": [
    "# Resample rides to be monthly on the basis of Start date\n",
    "monthly_rides = rides.resample('M', on='Start date')['Member type']\n",
    "\n",
    "# Take the ratio of the .value_counts() over the total number of rides\n",
    "print(monthly_rides.value_counts() / monthly_rides.size())"
   ]
  },
  {
   "cell_type": "markdown",
   "metadata": {},
   "source": [
    "### Combining groupby() and resample()"
   ]
  },
  {
   "cell_type": "code",
   "execution_count": 99,
   "metadata": {},
   "outputs": [
    {
     "name": "stdout",
     "output_type": "stream",
     "text": [
      "Member type  Start date\n",
      "Casual       2017-10-31    1636.0\n",
      "             2017-11-30    1159.5\n",
      "             2017-12-31     850.0\n",
      "Member       2017-10-31     671.0\n",
      "             2017-11-30     655.0\n",
      "             2017-12-31     387.5\n",
      "Name: Duration, dtype: float64\n"
     ]
    }
   ],
   "source": [
    "# Group rides by member type, and resample to the month\n",
    "grouped = rides.groupby('Member type')\\\n",
    "  .resample('M', on='Start date')\n",
    "\n",
    "# Print the median duration for each group\n",
    "print(grouped['Duration'].median())"
   ]
  },
  {
   "cell_type": "markdown",
   "metadata": {},
   "source": [
    "It looks like casual riders consistently took longer rides, but that both groups took shorter rides as the months went by."
   ]
  },
  {
   "cell_type": "markdown",
   "metadata": {},
   "source": [
    "### Timezones in Pandas"
   ]
  },
  {
   "cell_type": "code",
   "execution_count": 100,
   "metadata": {},
   "outputs": [
    {
     "data": {
      "text/plain": [
       "-3346.0"
      ]
     },
     "execution_count": 100,
     "metadata": {},
     "output_type": "execute_result"
    }
   ],
   "source": [
    "rides['Duration'].min()   # negative value because of ambiguous timezones"
   ]
  },
  {
   "cell_type": "code",
   "execution_count": 101,
   "metadata": {},
   "outputs": [
    {
     "name": "stdout",
     "output_type": "stream",
     "text": [
      "2017-10-01 15:23:25-04:00\n"
     ]
    }
   ],
   "source": [
    "# Localize the Start date column to America/New_York\n",
    "rides['Start date'] = rides['Start date'].dt.tz_localize('America/New_York', ambiguous='NaT')\n",
    "rides['End date'] = rides['End date'].dt.tz_localize('America/New_York', ambiguous='NaT')\n",
    "\n",
    "# Print first value\n",
    "print(rides['Start date'].iloc[0])"
   ]
  },
  {
   "cell_type": "markdown",
   "metadata": {},
   "source": [
    "### How long per weekday?"
   ]
  },
  {
   "cell_type": "code",
   "execution_count": 102,
   "metadata": {},
   "outputs": [
    {
     "name": "stdout",
     "output_type": "stream",
     "text": [
      "Ride start weekday\n",
      "Friday       724.5\n",
      "Monday       810.5\n",
      "Saturday     462.0\n",
      "Sunday       917.0\n",
      "Thursday     652.0\n",
      "Tuesday      641.5\n",
      "Wednesday    585.0\n",
      "Name: Duration, dtype: float64\n"
     ]
    }
   ],
   "source": [
    "# Add a column for the weekday of the start of the ride\n",
    "rides['Ride start weekday'] = rides['Start date'].dt.weekday_name\n",
    "\n",
    "# Print the median trip time per weekday\n",
    "print(rides.groupby('Ride start weekday')['Duration'].median())"
   ]
  },
  {
   "cell_type": "markdown",
   "metadata": {},
   "source": [
    "### How long between rides?"
   ]
  },
  {
   "cell_type": "code",
   "execution_count": 103,
   "metadata": {},
   "outputs": [
    {
     "name": "stdout",
     "output_type": "stream",
     "text": [
      "Start date\n",
      "2017-10-31 00:00:00-04:00    5.519242\n",
      "2017-11-30 00:00:00-05:00    7.256474\n",
      "2017-12-31 00:00:00-05:00    9.202380\n",
      "Name: Time since, dtype: float64\n"
     ]
    }
   ],
   "source": [
    "# Shift the index of the end date up one; now subract it from the start date\n",
    "# to Calculate the difference in the Start date of the current row and the End date of the previous row and assign it to rides['Time since']\n",
    "rides['Time since'] = rides['Start date'] - (rides['End date'].shift(1))\n",
    "\n",
    "# Move from a timedelta to a number of seconds, which is easier to work with\n",
    "rides['Time since'] = rides['Time since'].dt.total_seconds()\n",
    "\n",
    "# Resample to the month\n",
    "monthly = rides.resample('M', on='Start date')\n",
    "\n",
    "# Print the average hours between rides each month\n",
    "print(monthly['Time since'].mean()/(60*60))"
   ]
  },
  {
   "cell_type": "code",
   "execution_count": null,
   "metadata": {},
   "outputs": [],
   "source": []
  }
 ],
 "metadata": {
  "kernelspec": {
   "display_name": "Python 3",
   "language": "python",
   "name": "python3"
  },
  "language_info": {
   "codemirror_mode": {
    "name": "ipython",
    "version": 3
   },
   "file_extension": ".py",
   "mimetype": "text/x-python",
   "name": "python",
   "nbconvert_exporter": "python",
   "pygments_lexer": "ipython3",
   "version": "3.7.3"
  }
 },
 "nbformat": 4,
 "nbformat_minor": 2
}
